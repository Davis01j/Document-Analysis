{
 "cells": [
  {
   "cell_type": "markdown",
   "id": "26eaa47f",
   "metadata": {},
   "source": [
    "**Azure Login & Setup**"
   ]
  },
  {
   "cell_type": "code",
   "execution_count": null,
   "id": "d5e64e59",
   "metadata": {},
   "outputs": [],
   "source": [
    "#AZ Login\n",
    "!az login"
   ]
  },
  {
   "cell_type": "markdown",
   "id": "1d33791a",
   "metadata": {},
   "source": [
    "**Terraform - Init, Plan, Apply [Deploy Azure Infrastructure]**"
   ]
  },
  {
   "cell_type": "code",
   "execution_count": null,
   "id": "3980472e",
   "metadata": {},
   "outputs": [],
   "source": [
    "#Set Environment Variables\n",
    "\n",
    "!set -a && source \"/Users/davis/Desktop/Document Analysis/terraform.env\" && set +a\n"
   ]
  },
  {
   "cell_type": "code",
   "execution_count": null,
   "id": "4f6c4036",
   "metadata": {},
   "outputs": [],
   "source": [
    "!terraform init"
   ]
  },
  {
   "cell_type": "code",
   "execution_count": null,
   "id": "daed887d",
   "metadata": {},
   "outputs": [],
   "source": [
    "!terraform plan"
   ]
  },
  {
   "cell_type": "code",
   "execution_count": null,
   "id": "e2c82618",
   "metadata": {},
   "outputs": [],
   "source": [
    "!terraform apply"
   ]
  },
  {
   "cell_type": "markdown",
   "id": "e7bfb464",
   "metadata": {},
   "source": [
    "**Pause - Present \"Continue\" Button**"
   ]
  },
  {
   "cell_type": "code",
   "execution_count": null,
   "id": "f705b276",
   "metadata": {},
   "outputs": [],
   "source": [
    "#Pause and ask to continue script\n",
    "\n",
    "import ipywidgets as widgets\n",
    "from IPython.display import display, clear_output\n",
    "\n",
    "button = widgets.Button(description=\"✅ Continue\")\n",
    "output = widgets.Output()\n",
    "\n",
    "def on_button_click(b):\n",
    "    with output:\n",
    "        clear_output()\n",
    "        print(\"Continuing notebook...\")\n",
    "\n",
    "button.on_click(on_button_click)\n",
    "display(button, output)\n"
   ]
  },
  {
   "cell_type": "markdown",
   "id": "d47d3e05",
   "metadata": {},
   "source": [
    "**Delete Terraform Files**"
   ]
  },
  {
   "cell_type": "code",
   "execution_count": null,
   "id": "ef999b17",
   "metadata": {},
   "outputs": [],
   "source": [
    "!rm -r .terraform\n",
    "!rm -r .terraform.lock.hcl"
   ]
  },
  {
   "cell_type": "markdown",
   "id": "4634640d",
   "metadata": {},
   "source": [
    "**Pause - Present \"Continue\" Button**"
   ]
  },
  {
   "cell_type": "code",
   "execution_count": null,
   "id": "b9f91cc8",
   "metadata": {},
   "outputs": [],
   "source": [
    "#Pause and ask to continue script\n",
    "\n",
    "import ipywidgets as widgets\n",
    "from IPython.display import display, clear_output\n",
    "\n",
    "button = widgets.Button(description=\"✅ Continue\")\n",
    "output = widgets.Output()\n",
    "\n",
    "def on_button_click(b):\n",
    "    with output:\n",
    "        clear_output()\n",
    "        print(\"Continuing notebook...\")\n",
    "\n",
    "button.on_click(on_button_click)\n",
    "display(button, output)\n"
   ]
  }
 ],
 "metadata": {
  "kernelspec": {
   "display_name": ".venv",
   "language": "python",
   "name": "python3"
  },
  "language_info": {
   "codemirror_mode": {
    "name": "ipython",
    "version": 3
   },
   "file_extension": ".py",
   "mimetype": "text/x-python",
   "name": "python",
   "nbconvert_exporter": "python",
   "pygments_lexer": "ipython3",
   "version": "3.13.3"
  }
 },
 "nbformat": 4,
 "nbformat_minor": 5
}
